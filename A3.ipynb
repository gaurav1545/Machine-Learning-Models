{
 "cells": [
  {
   "cell_type": "code",
   "execution_count": 2,
   "metadata": {},
   "outputs": [],
   "source": [
    "import numpy as np\n",
    "import matplotlib.pyplot as plt\n",
    "import matplotlib.ticker as mt\n",
    "from scipy.special import gamma"
   ]
  },
  {
   "cell_type": "code",
   "execution_count": 3,
   "metadata": {},
   "outputs": [],
   "source": [
    "class ProbabilisticAnalyser:\n",
    "\n",
    "    def __init__(self):\n",
    "        lines = open(\"inp.txt\", \"r\").read().split(' ')\n",
    "        self.obs = [int(a) for a in lines]\n",
    "        self.count = len(self.obs)\n",
    "        self.heads = sum(self.obs)\n",
    "\n",
    "    def beta_plotter(self, a, b, idx):\n",
    "        prob, xs, u = [], [], 0\n",
    "        norm_fac = (gamma(a+b)/(gamma(a)*gamma(b)))\n",
    "        while u <= 1:\n",
    "            pval = norm_fac * (u ** (a-1)) * ((1-u) ** (b-1))\n",
    "            prob.append(pval)\n",
    "            xs.append(u)\n",
    "            u += 1e-5\n",
    "\n",
    "        plt.figure(1)\n",
    "        ax = plt.gca()\n",
    "        ax.set_ylim(0, 12)\n",
    "        plt.xlabel(\"u\")\n",
    "        plt.ylabel(\"prob\")\n",
    "        ax.xaxis.set_major_locator(mt.FixedLocator([i*0.1 for i in range(1, 1)]))\n",
    "        ax.plot(xs, prob, linewidth=2, marker='.', markersize=0.25)\n",
    "        plt.savefig(\"Fig_\" + str(idx) + \".png\")\n",
    "\n",
    "    def sequential_bayesian(self):\n",
    "        count = 0\n",
    "        a, b = 2, 3\n",
    "        for ob in self.obs:\n",
    "            print(\"mean =\", (a/(a+b)))\n",
    "            self.beta_plotter(a, b, count)\n",
    "            if ob == 0:\n",
    "                a, b = a, b+1\n",
    "            if ob == 1:\n",
    "                a, b = a+1, b\n",
    "            count += 1\n",
    "        print(\"mean =\", (a/(a+b)))\n",
    "        self.beta_plotter(a, b, count)\n",
    "\n",
    "    def concurrent_bayesian(self):\n",
    "        a, b = 2, 3\n",
    "        m, N = self.heads, self.count\n",
    "        print(\"mean =\", (a/(a+b)))\n",
    "        a += m\n",
    "        b += (N-m)\n",
    "        print(\"mean =\", (a/(a+b)))\n",
    "        self.beta_plotter(a, b, 0)"
   ]
  },
  {
   "cell_type": "code",
   "execution_count": null,
   "metadata": {},
   "outputs": [],
   "source": [
    "analyser = ProbabilisticAnalyser()\n",
    "analyser.sequential_bayesian()\n",
    "analyser.concurrent_bayesian()"
   ]
  }
 ],
 "metadata": {
  "kernelspec": {
   "display_name": "Python 3",
   "language": "python",
   "name": "python3"
  },
  "language_info": {
   "codemirror_mode": {
    "name": "ipython",
    "version": 3
   },
   "file_extension": ".py",
   "mimetype": "text/x-python",
   "name": "python",
   "nbconvert_exporter": "python",
   "pygments_lexer": "ipython3",
   "version": "3.7.5"
  }
 },
 "nbformat": 4,
 "nbformat_minor": 2
}
